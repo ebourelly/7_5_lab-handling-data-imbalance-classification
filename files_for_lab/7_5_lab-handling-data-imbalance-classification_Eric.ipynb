{
 "cells": [
  {
   "cell_type": "markdown",
   "id": "1aee76da",
   "metadata": {},
   "source": [
    "### 1. Import the required libraries and modules that you would need."
   ]
  },
  {
   "cell_type": "code",
   "execution_count": 1,
   "id": "3b730bce",
   "metadata": {},
   "outputs": [],
   "source": [
    "import pandas as pd\n",
    "import numpy as np\n",
    "import statsmodels.api as sm\n",
    "from sklearn.utils import resample\n",
    "from sklearn.model_selection import train_test_split\n",
    "import matplotlib.pyplot as plt\n",
    "import seaborn as sns\n",
    "from sklearn.preprocessing import MinMaxScaler"
   ]
  },
  {
   "cell_type": "markdown",
   "id": "1eecfa78",
   "metadata": {},
   "source": [
    "### 2. Read that data into Python and call the dataframe churnData."
   ]
  },
  {
   "cell_type": "code",
   "execution_count": 2,
   "id": "5f6f582f",
   "metadata": {},
   "outputs": [],
   "source": [
    "churnData = pd.read_csv('Customer-Churn.csv')"
   ]
  },
  {
   "cell_type": "code",
   "execution_count": 3,
   "id": "f48119b4",
   "metadata": {},
   "outputs": [
    {
     "data": {
      "text/html": [
       "<div>\n",
       "<style scoped>\n",
       "    .dataframe tbody tr th:only-of-type {\n",
       "        vertical-align: middle;\n",
       "    }\n",
       "\n",
       "    .dataframe tbody tr th {\n",
       "        vertical-align: top;\n",
       "    }\n",
       "\n",
       "    .dataframe thead th {\n",
       "        text-align: right;\n",
       "    }\n",
       "</style>\n",
       "<table border=\"1\" class=\"dataframe\">\n",
       "  <thead>\n",
       "    <tr style=\"text-align: right;\">\n",
       "      <th></th>\n",
       "      <th>gender</th>\n",
       "      <th>SeniorCitizen</th>\n",
       "      <th>Partner</th>\n",
       "      <th>Dependents</th>\n",
       "      <th>tenure</th>\n",
       "      <th>PhoneService</th>\n",
       "      <th>OnlineSecurity</th>\n",
       "      <th>OnlineBackup</th>\n",
       "      <th>DeviceProtection</th>\n",
       "      <th>TechSupport</th>\n",
       "      <th>StreamingTV</th>\n",
       "      <th>StreamingMovies</th>\n",
       "      <th>Contract</th>\n",
       "      <th>MonthlyCharges</th>\n",
       "      <th>TotalCharges</th>\n",
       "      <th>Churn</th>\n",
       "    </tr>\n",
       "  </thead>\n",
       "  <tbody>\n",
       "    <tr>\n",
       "      <th>0</th>\n",
       "      <td>Female</td>\n",
       "      <td>0</td>\n",
       "      <td>Yes</td>\n",
       "      <td>No</td>\n",
       "      <td>1</td>\n",
       "      <td>No</td>\n",
       "      <td>No</td>\n",
       "      <td>Yes</td>\n",
       "      <td>No</td>\n",
       "      <td>No</td>\n",
       "      <td>No</td>\n",
       "      <td>No</td>\n",
       "      <td>Month-to-month</td>\n",
       "      <td>29.85</td>\n",
       "      <td>29.85</td>\n",
       "      <td>No</td>\n",
       "    </tr>\n",
       "    <tr>\n",
       "      <th>1</th>\n",
       "      <td>Male</td>\n",
       "      <td>0</td>\n",
       "      <td>No</td>\n",
       "      <td>No</td>\n",
       "      <td>34</td>\n",
       "      <td>Yes</td>\n",
       "      <td>Yes</td>\n",
       "      <td>No</td>\n",
       "      <td>Yes</td>\n",
       "      <td>No</td>\n",
       "      <td>No</td>\n",
       "      <td>No</td>\n",
       "      <td>One year</td>\n",
       "      <td>56.95</td>\n",
       "      <td>1889.5</td>\n",
       "      <td>No</td>\n",
       "    </tr>\n",
       "    <tr>\n",
       "      <th>2</th>\n",
       "      <td>Male</td>\n",
       "      <td>0</td>\n",
       "      <td>No</td>\n",
       "      <td>No</td>\n",
       "      <td>2</td>\n",
       "      <td>Yes</td>\n",
       "      <td>Yes</td>\n",
       "      <td>Yes</td>\n",
       "      <td>No</td>\n",
       "      <td>No</td>\n",
       "      <td>No</td>\n",
       "      <td>No</td>\n",
       "      <td>Month-to-month</td>\n",
       "      <td>53.85</td>\n",
       "      <td>108.15</td>\n",
       "      <td>Yes</td>\n",
       "    </tr>\n",
       "    <tr>\n",
       "      <th>3</th>\n",
       "      <td>Male</td>\n",
       "      <td>0</td>\n",
       "      <td>No</td>\n",
       "      <td>No</td>\n",
       "      <td>45</td>\n",
       "      <td>No</td>\n",
       "      <td>Yes</td>\n",
       "      <td>No</td>\n",
       "      <td>Yes</td>\n",
       "      <td>Yes</td>\n",
       "      <td>No</td>\n",
       "      <td>No</td>\n",
       "      <td>One year</td>\n",
       "      <td>42.30</td>\n",
       "      <td>1840.75</td>\n",
       "      <td>No</td>\n",
       "    </tr>\n",
       "    <tr>\n",
       "      <th>4</th>\n",
       "      <td>Female</td>\n",
       "      <td>0</td>\n",
       "      <td>No</td>\n",
       "      <td>No</td>\n",
       "      <td>2</td>\n",
       "      <td>Yes</td>\n",
       "      <td>No</td>\n",
       "      <td>No</td>\n",
       "      <td>No</td>\n",
       "      <td>No</td>\n",
       "      <td>No</td>\n",
       "      <td>No</td>\n",
       "      <td>Month-to-month</td>\n",
       "      <td>70.70</td>\n",
       "      <td>151.65</td>\n",
       "      <td>Yes</td>\n",
       "    </tr>\n",
       "    <tr>\n",
       "      <th>5</th>\n",
       "      <td>Female</td>\n",
       "      <td>0</td>\n",
       "      <td>No</td>\n",
       "      <td>No</td>\n",
       "      <td>8</td>\n",
       "      <td>Yes</td>\n",
       "      <td>No</td>\n",
       "      <td>No</td>\n",
       "      <td>Yes</td>\n",
       "      <td>No</td>\n",
       "      <td>Yes</td>\n",
       "      <td>Yes</td>\n",
       "      <td>Month-to-month</td>\n",
       "      <td>99.65</td>\n",
       "      <td>820.5</td>\n",
       "      <td>Yes</td>\n",
       "    </tr>\n",
       "    <tr>\n",
       "      <th>6</th>\n",
       "      <td>Male</td>\n",
       "      <td>0</td>\n",
       "      <td>No</td>\n",
       "      <td>Yes</td>\n",
       "      <td>22</td>\n",
       "      <td>Yes</td>\n",
       "      <td>No</td>\n",
       "      <td>Yes</td>\n",
       "      <td>No</td>\n",
       "      <td>No</td>\n",
       "      <td>Yes</td>\n",
       "      <td>No</td>\n",
       "      <td>Month-to-month</td>\n",
       "      <td>89.10</td>\n",
       "      <td>1949.4</td>\n",
       "      <td>No</td>\n",
       "    </tr>\n",
       "    <tr>\n",
       "      <th>7</th>\n",
       "      <td>Female</td>\n",
       "      <td>0</td>\n",
       "      <td>No</td>\n",
       "      <td>No</td>\n",
       "      <td>10</td>\n",
       "      <td>No</td>\n",
       "      <td>Yes</td>\n",
       "      <td>No</td>\n",
       "      <td>No</td>\n",
       "      <td>No</td>\n",
       "      <td>No</td>\n",
       "      <td>No</td>\n",
       "      <td>Month-to-month</td>\n",
       "      <td>29.75</td>\n",
       "      <td>301.9</td>\n",
       "      <td>No</td>\n",
       "    </tr>\n",
       "    <tr>\n",
       "      <th>8</th>\n",
       "      <td>Female</td>\n",
       "      <td>0</td>\n",
       "      <td>Yes</td>\n",
       "      <td>No</td>\n",
       "      <td>28</td>\n",
       "      <td>Yes</td>\n",
       "      <td>No</td>\n",
       "      <td>No</td>\n",
       "      <td>Yes</td>\n",
       "      <td>Yes</td>\n",
       "      <td>Yes</td>\n",
       "      <td>Yes</td>\n",
       "      <td>Month-to-month</td>\n",
       "      <td>104.80</td>\n",
       "      <td>3046.05</td>\n",
       "      <td>Yes</td>\n",
       "    </tr>\n",
       "    <tr>\n",
       "      <th>9</th>\n",
       "      <td>Male</td>\n",
       "      <td>0</td>\n",
       "      <td>No</td>\n",
       "      <td>Yes</td>\n",
       "      <td>62</td>\n",
       "      <td>Yes</td>\n",
       "      <td>Yes</td>\n",
       "      <td>Yes</td>\n",
       "      <td>No</td>\n",
       "      <td>No</td>\n",
       "      <td>No</td>\n",
       "      <td>No</td>\n",
       "      <td>One year</td>\n",
       "      <td>56.15</td>\n",
       "      <td>3487.95</td>\n",
       "      <td>No</td>\n",
       "    </tr>\n",
       "  </tbody>\n",
       "</table>\n",
       "</div>"
      ],
      "text/plain": [
       "   gender  SeniorCitizen Partner Dependents  tenure PhoneService  \\\n",
       "0  Female              0     Yes         No       1           No   \n",
       "1    Male              0      No         No      34          Yes   \n",
       "2    Male              0      No         No       2          Yes   \n",
       "3    Male              0      No         No      45           No   \n",
       "4  Female              0      No         No       2          Yes   \n",
       "5  Female              0      No         No       8          Yes   \n",
       "6    Male              0      No        Yes      22          Yes   \n",
       "7  Female              0      No         No      10           No   \n",
       "8  Female              0     Yes         No      28          Yes   \n",
       "9    Male              0      No        Yes      62          Yes   \n",
       "\n",
       "  OnlineSecurity OnlineBackup DeviceProtection TechSupport StreamingTV  \\\n",
       "0             No          Yes               No          No          No   \n",
       "1            Yes           No              Yes          No          No   \n",
       "2            Yes          Yes               No          No          No   \n",
       "3            Yes           No              Yes         Yes          No   \n",
       "4             No           No               No          No          No   \n",
       "5             No           No              Yes          No         Yes   \n",
       "6             No          Yes               No          No         Yes   \n",
       "7            Yes           No               No          No          No   \n",
       "8             No           No              Yes         Yes         Yes   \n",
       "9            Yes          Yes               No          No          No   \n",
       "\n",
       "  StreamingMovies        Contract  MonthlyCharges TotalCharges Churn  \n",
       "0              No  Month-to-month           29.85        29.85    No  \n",
       "1              No        One year           56.95       1889.5    No  \n",
       "2              No  Month-to-month           53.85       108.15   Yes  \n",
       "3              No        One year           42.30      1840.75    No  \n",
       "4              No  Month-to-month           70.70       151.65   Yes  \n",
       "5             Yes  Month-to-month           99.65        820.5   Yes  \n",
       "6              No  Month-to-month           89.10       1949.4    No  \n",
       "7              No  Month-to-month           29.75        301.9    No  \n",
       "8             Yes  Month-to-month          104.80      3046.05   Yes  \n",
       "9              No        One year           56.15      3487.95    No  "
      ]
     },
     "execution_count": 3,
     "metadata": {},
     "output_type": "execute_result"
    }
   ],
   "source": [
    "churnData.head(10)"
   ]
  },
  {
   "cell_type": "markdown",
   "id": "7a7ae7d1",
   "metadata": {},
   "source": [
    "### 3. Check the datatypes of all the columns in the data. You would see that the column TotalCharges is object type. Convert this column into numeric type using pd.to_numeric function."
   ]
  },
  {
   "cell_type": "code",
   "execution_count": 4,
   "id": "ce5e7979",
   "metadata": {},
   "outputs": [
    {
     "data": {
      "text/plain": [
       "gender               object\n",
       "SeniorCitizen         int64\n",
       "Partner              object\n",
       "Dependents           object\n",
       "tenure                int64\n",
       "PhoneService         object\n",
       "OnlineSecurity       object\n",
       "OnlineBackup         object\n",
       "DeviceProtection     object\n",
       "TechSupport          object\n",
       "StreamingTV          object\n",
       "StreamingMovies      object\n",
       "Contract             object\n",
       "MonthlyCharges      float64\n",
       "TotalCharges         object\n",
       "Churn                object\n",
       "dtype: object"
      ]
     },
     "execution_count": 4,
     "metadata": {},
     "output_type": "execute_result"
    }
   ],
   "source": [
    "churnData.dtypes"
   ]
  },
  {
   "cell_type": "code",
   "execution_count": 5,
   "id": "00a03021",
   "metadata": {},
   "outputs": [
    {
     "data": {
      "text/plain": [
       "0         29.85\n",
       "1       1889.50\n",
       "2        108.15\n",
       "3       1840.75\n",
       "4        151.65\n",
       "         ...   \n",
       "7038    1990.50\n",
       "7039    7362.90\n",
       "7040     346.45\n",
       "7041     306.60\n",
       "7042    6844.50\n",
       "Name: TotalCharges, Length: 7043, dtype: float64"
      ]
     },
     "execution_count": 5,
     "metadata": {},
     "output_type": "execute_result"
    }
   ],
   "source": [
    "churnData['TotalCharges'] = pd.to_numeric(churnData['TotalCharges'], errors = 'coerce')\n",
    "churnData['TotalCharges']"
   ]
  },
  {
   "cell_type": "code",
   "execution_count": 6,
   "id": "2aef211d",
   "metadata": {},
   "outputs": [
    {
     "data": {
      "text/plain": [
       "gender               object\n",
       "SeniorCitizen         int64\n",
       "Partner              object\n",
       "Dependents           object\n",
       "tenure                int64\n",
       "PhoneService         object\n",
       "OnlineSecurity       object\n",
       "OnlineBackup         object\n",
       "DeviceProtection     object\n",
       "TechSupport          object\n",
       "StreamingTV          object\n",
       "StreamingMovies      object\n",
       "Contract             object\n",
       "MonthlyCharges      float64\n",
       "TotalCharges        float64\n",
       "Churn                object\n",
       "dtype: object"
      ]
     },
     "execution_count": 6,
     "metadata": {},
     "output_type": "execute_result"
    }
   ],
   "source": [
    "churnData.dtypes"
   ]
  },
  {
   "cell_type": "markdown",
   "id": "a49f2c69",
   "metadata": {},
   "source": [
    "### 4. Check for null values in the dataframe. Replace the null values."
   ]
  },
  {
   "cell_type": "code",
   "execution_count": 7,
   "id": "4e829849",
   "metadata": {},
   "outputs": [
    {
     "data": {
      "text/plain": [
       "gender               0\n",
       "SeniorCitizen        0\n",
       "Partner              0\n",
       "Dependents           0\n",
       "tenure               0\n",
       "PhoneService         0\n",
       "OnlineSecurity       0\n",
       "OnlineBackup         0\n",
       "DeviceProtection     0\n",
       "TechSupport          0\n",
       "StreamingTV          0\n",
       "StreamingMovies      0\n",
       "Contract             0\n",
       "MonthlyCharges       0\n",
       "TotalCharges        11\n",
       "Churn                0\n",
       "dtype: int64"
      ]
     },
     "execution_count": 7,
     "metadata": {},
     "output_type": "execute_result"
    }
   ],
   "source": [
    "churnData.isnull().sum()"
   ]
  },
  {
   "cell_type": "code",
   "execution_count": 8,
   "id": "3924691d",
   "metadata": {},
   "outputs": [
    {
     "name": "stderr",
     "output_type": "stream",
     "text": [
      "C:\\Users\\ebour\\anaconda3\\lib\\site-packages\\seaborn\\distributions.py:2619: FutureWarning: `distplot` is a deprecated function and will be removed in a future version. Please adapt your code to use either `displot` (a figure-level function with similar flexibility) or `histplot` (an axes-level function for histograms).\n",
      "  warnings.warn(msg, FutureWarning)\n"
     ]
    },
    {
     "data": {
      "image/png": "[encoded data removed]",
      "text/plain": [
       "<Figure size 432x288 with 1 Axes>"
      ]
     },
     "metadata": {
      "needs_background": "light"
     },
     "output_type": "display_data"
    }
   ],
   "source": [
    "sns.distplot(churnData['TotalCharges'])\n",
    "plt.show()"
   ]
  },
  {
   "cell_type": "code",
   "execution_count": 9,
   "id": "1294b0d0",
   "metadata": {},
   "outputs": [
    {
     "data": {
      "text/plain": [
       "gender              0\n",
       "SeniorCitizen       0\n",
       "Partner             0\n",
       "Dependents          0\n",
       "tenure              0\n",
       "PhoneService        0\n",
       "OnlineSecurity      0\n",
       "OnlineBackup        0\n",
       "DeviceProtection    0\n",
       "TechSupport         0\n",
       "StreamingTV         0\n",
       "StreamingMovies     0\n",
       "Contract            0\n",
       "MonthlyCharges      0\n",
       "TotalCharges        0\n",
       "Churn               0\n",
       "dtype: int64"
      ]
     },
     "execution_count": 9,
     "metadata": {},
     "output_type": "execute_result"
    }
   ],
   "source": [
    "# TotalCharges is continuous, and 11 rows out of 7000 are not relly significant, so I'll replace them with the mean\n",
    "# of the column\n",
    "churnData['TotalCharges'] = churnData['TotalCharges'].fillna(np.mean(churnData['TotalCharges']))\n",
    "churnData.isnull().sum()"
   ]
  },
  {
   "cell_type": "markdown",
   "id": "73bd931b",
   "metadata": {},
   "source": [
    "### 5. Use the following features: tenure, SeniorCitizen, MonthlyCharges and TotalCharges:"
   ]
  },
  {
   "cell_type": "code",
   "execution_count": 10,
   "id": "634f8461",
   "metadata": {},
   "outputs": [],
   "source": [
    "features = churnData[['tenure', 'SeniorCitizen', 'MonthlyCharges', 'TotalCharges']].copy()\n",
    "labels = churnData['Churn']"
   ]
  },
  {
   "cell_type": "code",
   "execution_count": 11,
   "id": "569844e7",
   "metadata": {},
   "outputs": [],
   "source": [
    "X_train, X_test, y_train, y_test = train_test_split(features, labels, random_state = 42)"
   ]
  },
  {
   "cell_type": "code",
   "execution_count": 12,
   "id": "2eae1054",
   "metadata": {},
   "outputs": [],
   "source": [
    "scaler = MinMaxScaler()\n",
    "X_train_scaled = scaler.fit_transform(X_train)\n",
    "X_test_scaled = scaler.transform(X_test)"
   ]
  },
  {
   "cell_type": "code",
   "execution_count": 13,
   "id": "8e3f2cf2",
   "metadata": {},
   "outputs": [
    {
     "name": "stdout",
     "output_type": "stream",
     "text": [
      "score on train set is:0.78872\n",
      "score on test set is:0.79898\n"
     ]
    }
   ],
   "source": [
    "from sklearn.linear_model import LogisticRegression\n",
    "log_reg = LogisticRegression(random_state = 62).fit(X_train_scaled, y_train)\n",
    "train_score = log_reg.score(X_train_scaled, y_train)\n",
    "pred = log_reg.predict(X_test_scaled)\n",
    "test_score = log_reg.score(X_test_scaled, y_test)\n",
    "print('score on train set is:' + str(round(train_score,5)))\n",
    "print('score on test set is:' + str(round(test_score,5)))"
   ]
  },
  {
   "cell_type": "code",
   "execution_count": 14,
   "id": "16beb6ef",
   "metadata": {},
   "outputs": [
    {
     "name": "stdout",
     "output_type": "stream",
     "text": [
      "precision:  0.7035830618892508\n",
      "recall:  0.4509394572025052\n",
      "f1:  0.5496183206106869\n"
     ]
    }
   ],
   "source": [
    "from sklearn.metrics import precision_score\n",
    "from sklearn.metrics import recall_score\n",
    "from sklearn.metrics import f1_score\n",
    "\n",
    "print(\"precision: \",precision_score(y_test,pred, pos_label='Yes'))\n",
    "print(\"recall: \",recall_score(y_test,pred, pos_label='Yes'))\n",
    "print(\"f1: \",f1_score(y_test,pred, pos_label='Yes'))"
   ]
  },
  {
   "cell_type": "markdown",
   "id": "f7c6126b",
   "metadata": {},
   "source": [
    "### 6. Check for imbalance"
   ]
  },
  {
   "cell_type": "code",
   "execution_count": 15,
   "id": "823446f1",
   "metadata": {},
   "outputs": [
    {
     "data": {
      "text/plain": [
       "No     5174\n",
       "Yes    1869\n",
       "Name: Churn, dtype: int64"
      ]
     },
     "execution_count": 15,
     "metadata": {},
     "output_type": "execute_result"
    }
   ],
   "source": [
    "churnData['Churn'].value_counts()"
   ]
  },
  {
   "cell_type": "code",
   "execution_count": 16,
   "id": "2b4c0db5",
   "metadata": {},
   "outputs": [],
   "source": [
    "# We see that we indeed have imbalance in our model, as we have roughly 70% of No Churn in the dataset."
   ]
  },
  {
   "cell_type": "markdown",
   "id": "dd4d8844",
   "metadata": {},
   "source": [
    "### 7. Use the resampling strategies used in class for upsampling and downsampling to create a balance between the two classes.\n",
    "### Each time fit the model and see how the accuracy of the model is."
   ]
  },
  {
   "cell_type": "code",
   "execution_count": 17,
   "id": "9f528a84",
   "metadata": {},
   "outputs": [],
   "source": [
    "# Our data is already scaled, so we can reunite features and labels for the train set, to implement the up/down scaling.\n",
    "churnData_train = pd.concat([X_train,y_train], axis=1)\n",
    "churnData_train_yes = churnData_train[churnData_train['Churn']=='Yes']\n",
    "churnData_train_no = churnData_train[churnData_train['Churn']=='No']"
   ]
  },
  {
   "cell_type": "markdown",
   "id": "4bd875cd",
   "metadata": {},
   "source": [
    "##### Upsampling"
   ]
  },
  {
   "cell_type": "code",
   "execution_count": 18,
   "id": "d660a647",
   "metadata": {},
   "outputs": [],
   "source": [
    "churnData_train_yes_upsampled = resample(churnData_train_yes, \n",
    "                                  replace=True, \n",
    "                                  n_samples = len(churnData_train_no))"
   ]
  },
  {
   "cell_type": "code",
   "execution_count": 19,
   "id": "b6a88214",
   "metadata": {},
   "outputs": [
    {
     "name": "stdout",
     "output_type": "stream",
     "text": [
      "(3892, 5)\n",
      "(3892, 5)\n"
     ]
    }
   ],
   "source": [
    "print(churnData_train_yes_upsampled.shape)\n",
    "print(churnData_train_no.shape)"
   ]
  },
  {
   "cell_type": "code",
   "execution_count": 20,
   "id": "4342a865",
   "metadata": {},
   "outputs": [
    {
     "data": {
      "text/plain": [
       "No     3892\n",
       "Yes    3892\n",
       "Name: Churn, dtype: int64"
      ]
     },
     "execution_count": 20,
     "metadata": {},
     "output_type": "execute_result"
    }
   ],
   "source": [
    "churnData_train_upsampled = pd.concat([churnData_train_no, churnData_train_yes_upsampled], axis=0)\n",
    "churnData_train_upsampled['Churn'].value_counts()"
   ]
  },
  {
   "cell_type": "code",
   "execution_count": 21,
   "id": "150296aa",
   "metadata": {},
   "outputs": [],
   "source": [
    "X_train_upsampled = churnData_train_upsampled[['tenure', 'SeniorCitizen', 'MonthlyCharges', 'TotalCharges']].copy()\n",
    "X_train_upsampled_scaled = scaler.transform(X_train_upsampled)\n",
    "y_train_upsampled = churnData_train_upsampled['Churn']"
   ]
  },
  {
   "cell_type": "code",
   "execution_count": 22,
   "id": "0c545ec4",
   "metadata": {},
   "outputs": [
    {
     "name": "stdout",
     "output_type": "stream",
     "text": [
      "score on train set is:0.72726\n",
      "score on test set is:0.74049\n"
     ]
    }
   ],
   "source": [
    "log_reg_up = LogisticRegression(random_state = 82).fit(X_train_upsampled_scaled, y_train_upsampled)\n",
    "train_score_up = log_reg_up.score(X_train_upsampled_scaled, y_train_upsampled)\n",
    "pred_up = log_reg_up.predict(X_test_scaled)\n",
    "test_score_up = log_reg_up.score(X_test_scaled, y_test)\n",
    "print('score on train set is:' + str(round(train_score_up,5)))\n",
    "print('score on test set is:' + str(round(test_score_up,5)))"
   ]
  },
  {
   "cell_type": "code",
   "execution_count": 23,
   "id": "a2c8aad4",
   "metadata": {},
   "outputs": [
    {
     "data": {
      "text/plain": [
       "array([[932, 350],\n",
       "       [107, 372]], dtype=int64)"
      ]
     },
     "execution_count": 23,
     "metadata": {},
     "output_type": "execute_result"
    }
   ],
   "source": [
    "from sklearn.metrics import confusion_matrix\n",
    "confusion_matrix(y_test,pred_up)"
   ]
  },
  {
   "cell_type": "code",
   "execution_count": 24,
   "id": "bc915c43",
   "metadata": {},
   "outputs": [
    {
     "name": "stdout",
     "output_type": "stream",
     "text": [
      "precision:  0.5152354570637119\n",
      "recall:  0.7766179540709812\n",
      "f1:  0.6194837635303913\n"
     ]
    }
   ],
   "source": [
    "print(\"precision: \",precision_score(y_test,pred_up, pos_label='Yes'))\n",
    "print(\"recall: \",recall_score(y_test,pred_up, pos_label='Yes'))\n",
    "print(\"f1: \",f1_score(y_test,pred_up, pos_label='Yes'))"
   ]
  },
  {
   "cell_type": "code",
   "execution_count": 40,
   "id": "28a4c51a",
   "metadata": {},
   "outputs": [],
   "source": [
    "# The results are commented below, after the downsampling part."
   ]
  },
  {
   "cell_type": "markdown",
   "id": "f172858e",
   "metadata": {},
   "source": [
    "##### Downsampling"
   ]
  },
  {
   "cell_type": "code",
   "execution_count": 26,
   "id": "232b01ee",
   "metadata": {},
   "outputs": [],
   "source": [
    "churnData_train_no_undersampled = resample(churnData_train_no, \n",
    "                                  replace=True, \n",
    "                                  n_samples = len(churnData_train_yes))"
   ]
  },
  {
   "cell_type": "code",
   "execution_count": 27,
   "id": "38bd3c81",
   "metadata": {},
   "outputs": [
    {
     "name": "stdout",
     "output_type": "stream",
     "text": [
      "(1390, 5)\n",
      "(1390, 5)\n"
     ]
    }
   ],
   "source": [
    "print(churnData_train_yes.shape)\n",
    "print(churnData_train_no_undersampled.shape)"
   ]
  },
  {
   "cell_type": "code",
   "execution_count": 28,
   "id": "b26593e5",
   "metadata": {},
   "outputs": [
    {
     "data": {
      "text/plain": [
       "No     1390\n",
       "Yes    1390\n",
       "Name: Churn, dtype: int64"
      ]
     },
     "execution_count": 28,
     "metadata": {},
     "output_type": "execute_result"
    }
   ],
   "source": [
    "churnData_train_downsampled = pd.concat([churnData_train_no_undersampled, churnData_train_yes], axis=0)\n",
    "churnData_train_downsampled['Churn'].value_counts()"
   ]
  },
  {
   "cell_type": "code",
   "execution_count": 29,
   "id": "942e8a53",
   "metadata": {},
   "outputs": [],
   "source": [
    "X_train_downsampled = churnData_train_downsampled[['tenure', 'SeniorCitizen', 'MonthlyCharges', 'TotalCharges']].copy()\n",
    "X_train_downsampled_scaled = scaler.transform(X_train_downsampled)\n",
    "y_train_downsampled = churnData_train_downsampled['Churn']"
   ]
  },
  {
   "cell_type": "code",
   "execution_count": 30,
   "id": "0b26d2fb",
   "metadata": {},
   "outputs": [
    {
     "name": "stdout",
     "output_type": "stream",
     "text": [
      "score on train set is:0.73345\n",
      "score on test set is:0.73878\n"
     ]
    }
   ],
   "source": [
    "log_reg_down = LogisticRegression(random_state = 102).fit(X_train_downsampled_scaled, y_train_downsampled)\n",
    "train_score_down = log_reg_down.score(X_train_downsampled_scaled, y_train_downsampled)\n",
    "pred_down = log_reg_down.predict(X_test_scaled)\n",
    "test_score_down = log_reg_down.score(X_test_scaled, y_test)\n",
    "print('score on train set is:' + str(round(train_score_down,5)))\n",
    "print('score on test set is:' + str(round(test_score_down,5)))"
   ]
  },
  {
   "cell_type": "code",
   "execution_count": 31,
   "id": "3367e6ba",
   "metadata": {},
   "outputs": [
    {
     "name": "stdout",
     "output_type": "stream",
     "text": [
      "precision:  0.5131396957123098\n",
      "recall:  0.7745302713987474\n",
      "f1:  0.6173044925124792\n"
     ]
    }
   ],
   "source": [
    "print(\"precision: \",precision_score(y_test,pred_down, pos_label='Yes'))\n",
    "print(\"recall: \",recall_score(y_test,pred_down, pos_label='Yes'))\n",
    "print(\"f1: \",f1_score(y_test,pred_down, pos_label='Yes'))"
   ]
  },
  {
   "cell_type": "code",
   "execution_count": 32,
   "id": "33227842",
   "metadata": {},
   "outputs": [],
   "source": [
    "# Let's create a matrix to read the results easily."
   ]
  },
  {
   "cell_type": "code",
   "execution_count": 33,
   "id": "e3c7df34",
   "metadata": {},
   "outputs": [
    {
     "data": {
      "text/html": [
       "<div>\n",
       "<style scoped>\n",
       "    .dataframe tbody tr th:only-of-type {\n",
       "        vertical-align: middle;\n",
       "    }\n",
       "\n",
       "    .dataframe tbody tr th {\n",
       "        vertical-align: top;\n",
       "    }\n",
       "\n",
       "    .dataframe thead th {\n",
       "        text-align: right;\n",
       "    }\n",
       "</style>\n",
       "<table border=\"1\" class=\"dataframe\">\n",
       "  <thead>\n",
       "    <tr style=\"text-align: right;\">\n",
       "      <th></th>\n",
       "      <th>test_score</th>\n",
       "      <th>precision_score</th>\n",
       "      <th>recall_score</th>\n",
       "      <th>f1_score</th>\n",
       "    </tr>\n",
       "  </thead>\n",
       "  <tbody>\n",
       "    <tr>\n",
       "      <th>simple dataset</th>\n",
       "      <td>0.798978</td>\n",
       "      <td>0.703583</td>\n",
       "      <td>0.450939</td>\n",
       "      <td>0.549618</td>\n",
       "    </tr>\n",
       "    <tr>\n",
       "      <th>upsampling</th>\n",
       "      <td>0.740488</td>\n",
       "      <td>0.515235</td>\n",
       "      <td>0.776618</td>\n",
       "      <td>0.619484</td>\n",
       "    </tr>\n",
       "    <tr>\n",
       "      <th>downsampling</th>\n",
       "      <td>0.738785</td>\n",
       "      <td>0.513140</td>\n",
       "      <td>0.774530</td>\n",
       "      <td>0.617304</td>\n",
       "    </tr>\n",
       "  </tbody>\n",
       "</table>\n",
       "</div>"
      ],
      "text/plain": [
       "                test_score  precision_score  recall_score  f1_score\n",
       "simple dataset    0.798978         0.703583      0.450939  0.549618\n",
       "upsampling        0.740488         0.515235      0.776618  0.619484\n",
       "downsampling      0.738785         0.513140      0.774530  0.617304"
      ]
     },
     "execution_count": 33,
     "metadata": {},
     "output_type": "execute_result"
    }
   ],
   "source": [
    "test_score_list = [test_score, test_score_up, test_score_down]\n",
    "precision_list = [precision_score(y_test,pred, pos_label='Yes'), precision_score(y_test,pred_up, pos_label='Yes'), precision_score(y_test,pred_down, pos_label='Yes')]\n",
    "recall_list = [recall_score(y_test,pred, pos_label='Yes'), recall_score(y_test,pred_up, pos_label='Yes'), recall_score(y_test,pred_down, pos_label='Yes')]\n",
    "f1_list = [f1_score(y_test,pred, pos_label='Yes'), f1_score(y_test,pred_up, pos_label='Yes'), f1_score(y_test,pred_down, pos_label='Yes')]\n",
    "\n",
    "score_data = { 'test_score':test_score_list, 'precision_score':precision_list, 'recall_score':recall_list, 'f1_score':f1_list}\n",
    "score_index = pd.Index(['simple dataset', 'upsampling', 'downsampling'])\n",
    "\n",
    "pd.DataFrame.from_dict(score_data).set_index(score_index)"
   ]
  },
  {
   "cell_type": "code",
   "execution_count": 42,
   "id": "6f28a38c",
   "metadata": {},
   "outputs": [],
   "source": [
    "# We see that after the up or downsampling, the test and recisions scores of the regression model decrease, but we get\n",
    "# better recall results.\n",
    "\n",
    "# In our case, we want to identify the customers that might churn. The worst case scenario is a customer that would churn\n",
    "# when he was not identified as \"risky\". So a false negative classification is the worse case and we should target the best\n",
    "# recall possible.\n",
    "\n",
    "# Both up and down sampling give similar recall results, so we could use one or the other in a real case scenario."
   ]
  },
  {
   "cell_type": "markdown",
   "id": "7dc6338d",
   "metadata": {},
   "source": [
    "##### Personal check"
   ]
  },
  {
   "cell_type": "code",
   "execution_count": null,
   "id": "3affe6ae",
   "metadata": {},
   "outputs": [],
   "source": [
    "\"\"\"\n",
    "In the simulations above, I have done the up/down sampling on the train data set before scaling and reapplied the scaler\n",
    "to the up/down sampled sets before fitting the new regression models.\n",
    "\n",
    "What happens if we do the up/sampling on the already scaled train set ? (of course, we then do not need to scale it\n",
    "\"again\" before fitting the models).\n",
    "\n",
    "\"\"\""
   ]
  },
  {
   "cell_type": "code",
   "execution_count": 81,
   "id": "ef246cd0",
   "metadata": {},
   "outputs": [
    {
     "data": {
      "text/plain": [
       "tenure            0\n",
       "SeniorCitizen     0\n",
       "MonthlyCharges    0\n",
       "TotalCharges      0\n",
       "Churn             0\n",
       "dtype: int64"
      ]
     },
     "execution_count": 81,
     "metadata": {},
     "output_type": "execute_result"
    }
   ],
   "source": [
    "# X_train_scaled is an array, so we need to change it into a dataframe to concatenate it with y_train\n",
    "churnData_train_scaled = pd.concat([pd.DataFrame(X_train_scaled, columns = X_train.columns).reset_index(drop=True),y_train.reset_index(drop=True)], axis=1)\n",
    "\n",
    "churnData_train_scaled.isna().sum()"
   ]
  },
  {
   "cell_type": "code",
   "execution_count": 82,
   "id": "d6e5a3d0",
   "metadata": {},
   "outputs": [],
   "source": [
    "churnData_train_yes_scaled = churnData_train_scaled[churnData_train_scaled['Churn']=='Yes']\n",
    "churnData_train_no_scaled = churnData_train_scaled[churnData_train_scaled['Churn']=='No']"
   ]
  },
  {
   "cell_type": "code",
   "execution_count": 83,
   "id": "49fe68e3",
   "metadata": {},
   "outputs": [
    {
     "name": "stdout",
     "output_type": "stream",
     "text": [
      "(1390, 5)\n",
      "(3892, 5)\n"
     ]
    }
   ],
   "source": [
    "print(churnData_train_yes_scaled.shape)\n",
    "print(churnData_train_no_scaled.shape)"
   ]
  },
  {
   "cell_type": "code",
   "execution_count": 84,
   "id": "5614dc9b",
   "metadata": {},
   "outputs": [
    {
     "name": "stdout",
     "output_type": "stream",
     "text": [
      "(3892, 5)\n"
     ]
    }
   ],
   "source": [
    "# Upsampling the 'Yes'\n",
    "churnData_train_yes_upsampled_scaled = resample(churnData_train_yes_scaled, \n",
    "                                  replace=True, \n",
    "                                  n_samples = len(churnData_train_no_scaled))\n",
    "\n",
    "print(churnData_train_yes_upsampled_scaled.shape)"
   ]
  },
  {
   "cell_type": "code",
   "execution_count": 85,
   "id": "8ac2c60a",
   "metadata": {},
   "outputs": [
    {
     "data": {
      "text/plain": [
       "No     3892\n",
       "Yes    3892\n",
       "Name: Churn, dtype: int64"
      ]
     },
     "execution_count": 85,
     "metadata": {},
     "output_type": "execute_result"
    }
   ],
   "source": [
    "# concatenate train set\n",
    "churnData_train_upsampled_scaled = pd.concat([churnData_train_no_scaled, churnData_train_yes_upsampled_scaled], axis=0)\n",
    "churnData_train_upsampled_scaled['Churn'].value_counts()"
   ]
  },
  {
   "cell_type": "code",
   "execution_count": 86,
   "id": "0151d24a",
   "metadata": {},
   "outputs": [
    {
     "data": {
      "text/plain": [
       "tenure            0\n",
       "SeniorCitizen     0\n",
       "MonthlyCharges    0\n",
       "TotalCharges      0\n",
       "Churn             0\n",
       "dtype: int64"
      ]
     },
     "execution_count": 86,
     "metadata": {},
     "output_type": "execute_result"
    }
   ],
   "source": [
    "churnData_train_upsampled_scaled.isna().sum()"
   ]
  },
  {
   "cell_type": "code",
   "execution_count": 87,
   "id": "7576b735",
   "metadata": {},
   "outputs": [
    {
     "name": "stdout",
     "output_type": "stream",
     "text": [
      "score on train set is:0.72919\n",
      "score on test set is:0.74049\n",
      "precision:  0.51524\n",
      "recall:  0.77662\n",
      "f1:  0.61948\n"
     ]
    },
    {
     "name": "stderr",
     "output_type": "stream",
     "text": [
      "C:\\Users\\ebour\\anaconda3\\lib\\site-packages\\sklearn\\base.py:443: UserWarning: X has feature names, but LogisticRegression was fitted without feature names\n",
      "  warnings.warn(\n"
     ]
    }
   ],
   "source": [
    "# X/y split\n",
    "X_train_upsampled_scaled_2 = churnData_train_upsampled_scaled[['tenure', 'SeniorCitizen', 'MonthlyCharges', 'TotalCharges']].copy()\n",
    "y_train_upsampled_2 = churnData_train_upsampled_scaled['Churn']\n",
    "\n",
    "# Logistic model fit\n",
    "log_reg_up_scaled = LogisticRegression(random_state = 122).fit(X_train_upsampled_scaled, y_train_upsampled_2)\n",
    "\n",
    "# y prediction for X_test\n",
    "pred_up_scaled = log_reg_up_scaled.predict(X_test_scaled)\n",
    "\n",
    "# scores\n",
    "train_score_up_scaled = log_reg_up_scaled.score(X_train_upsampled_scaled_2, y_train_upsampled_2)\n",
    "test_score_up_scaled = log_reg_up_scaled.score(X_test_scaled, y_test)\n",
    "\n",
    "print('score on train set is:' + str(round(train_score_up_scaled,5)))\n",
    "print('score on test set is:' + str(round(test_score_up_scaled,5)))\n",
    "\n",
    "print(\"precision: \",round(precision_score(y_test,pred_up_scaled, pos_label='Yes'),5))\n",
    "print(\"recall: \",round(recall_score(y_test,pred_up_scaled, pos_label='Yes'),5))\n",
    "print(\"f1: \",round(f1_score(y_test,pred_up_scaled, pos_label='Yes'),5))"
   ]
  },
  {
   "cell_type": "code",
   "execution_count": null,
   "id": "193f9971",
   "metadata": {},
   "outputs": [],
   "source": [
    "\"\"\"\n",
    "The Recall score, the one we were looking at in priority is in line with the previous silumation.\n",
    "Scaling the data before or after the up/downsampling thus gives the same result, as long as the scaler.fit has been done\n",
    "before the up/down sampling.\n",
    "\"\"\""
   ]
  },
  {
   "cell_type": "code",
   "execution_count": null,
   "id": "bbdc18d6",
   "metadata": {},
   "outputs": [],
   "source": []
  }
 ],
 "metadata": {
  "kernelspec": {
   "display_name": "Python 3 (ipykernel)",
   "language": "python",
   "name": "python3"
  },
  "language_info": {
   "codemirror_mode": {
    "name": "ipython",
    "version": 3
   },
   "file_extension": ".py",
   "mimetype": "text/x-python",
   "name": "python",
   "nbconvert_exporter": "python",
   "pygments_lexer": "ipython3",
   "version": "3.9.7"
  }
 },
 "nbformat": 4,
 "nbformat_minor": 5
}
